{
 "cells": [
  {
   "cell_type": "markdown",
   "metadata": {
    "id": "usgpeVYD_PRY"
   },
   "source": [
    "# Implementing Models"
   ]
  },
  {
   "cell_type": "code",
   "execution_count": 1,
   "metadata": {
    "id": "bWAlqy5vFXSj"
   },
   "outputs": [],
   "source": [
    "import pandas as pd\n",
    "import numpy as np\n",
    "import re\n",
    "import seaborn as sns\n",
    "import matplotlib.pyplot as plt\n",
    "from sklearn.utils import resample\n",
    "from sklearn.model_selection import train_test_split\n",
    "from sklearn.linear_model import LogisticRegression\n",
    "from sklearn.neighbors import KNeighborsClassifier\n",
    "from sklearn.svm import SVC\n",
    "from sklearn.tree import DecisionTreeClassifier\n",
    "from sklearn.ensemble import RandomForestClassifier\n",
    "from sklearn.model_selection import GridSearchCV\n",
    "from sklearn.metrics import precision_score\n",
    "from sklearn.metrics import recall_score\n",
    "from sklearn.metrics import f1_score\n",
    "from sklearn.metrics import accuracy_score, classification_report, confusion_matrix"
   ]
  },
  {
   "cell_type": "code",
   "execution_count": 2,
   "metadata": {
    "colab": {
     "base_uri": "https://localhost:8080/"
    },
    "id": "Gx7lbQgLTT7c",
    "outputId": "5d57b691-4606-4ee5-f3b2-8868a402cf3a"
   },
   "outputs": [],
   "source": [
    "# from google.colab import drive\n",
    "# drive.mount('/content/drive', force_remount=True)"
   ]
  },
  {
   "cell_type": "code",
   "execution_count": 3,
   "metadata": {
    "id": "oFH_Rje8_WYK"
   },
   "outputs": [],
   "source": [
    "# Reading the data from the cleaned CSV file\n",
    "# file_path = \"/content/drive/Shareddrives/DATA_228_Project/cleaned_playstore.csv\"\n",
    "# playstore = pd.read_csv(file_path)"
   ]
  },
  {
   "cell_type": "code",
   "execution_count": 4,
   "metadata": {},
   "outputs": [],
   "source": [
    "# Reading the data from the cleaned CSV file\n",
    "path = \"cleaned_playstore.csv\"\n",
    "playstore = pd.read_csv(path)"
   ]
  },
  {
   "cell_type": "markdown",
   "metadata": {
    "id": "OUY9NDplTQVN"
   },
   "source": [
    "___"
   ]
  },
  {
   "cell_type": "markdown",
   "metadata": {
    "id": "jz-wuVAKTQVN"
   },
   "source": [
    "### One-hot Encoding for \"In App Purchases\""
   ]
  },
  {
   "cell_type": "code",
   "execution_count": 5,
   "metadata": {
    "colab": {
     "base_uri": "https://localhost:8080/",
     "height": 446
    },
    "id": "LW1a86zgTQVN",
    "outputId": "1e7c88cc-2416-4f85-8fcd-e6b392e782c6"
   },
   "outputs": [
    {
     "data": {
      "text/html": [
       "<div>\n",
       "<style scoped>\n",
       "    .dataframe tbody tr th:only-of-type {\n",
       "        vertical-align: middle;\n",
       "    }\n",
       "\n",
       "    .dataframe tbody tr th {\n",
       "        vertical-align: top;\n",
       "    }\n",
       "\n",
       "    .dataframe thead th {\n",
       "        text-align: right;\n",
       "    }\n",
       "</style>\n",
       "<table border=\"1\" class=\"dataframe\">\n",
       "  <thead>\n",
       "    <tr style=\"text-align: right;\">\n",
       "      <th></th>\n",
       "      <th>App Name</th>\n",
       "      <th>App Id</th>\n",
       "      <th>Category</th>\n",
       "      <th>Rating</th>\n",
       "      <th>Rating Count</th>\n",
       "      <th>Installs</th>\n",
       "      <th>Minimum Installs</th>\n",
       "      <th>Maximum Installs</th>\n",
       "      <th>Free</th>\n",
       "      <th>Price</th>\n",
       "      <th>...</th>\n",
       "      <th>Developer Email</th>\n",
       "      <th>Released</th>\n",
       "      <th>Last Updated</th>\n",
       "      <th>Content Rating</th>\n",
       "      <th>Privacy Policy</th>\n",
       "      <th>Ad Supported</th>\n",
       "      <th>Editors Choice</th>\n",
       "      <th>Scraped Time</th>\n",
       "      <th>Popularity</th>\n",
       "      <th>In App Purchases_True</th>\n",
       "    </tr>\n",
       "  </thead>\n",
       "  <tbody>\n",
       "    <tr>\n",
       "      <th>0</th>\n",
       "      <td>Gakondo</td>\n",
       "      <td>com.ishakwe.gakondo</td>\n",
       "      <td>Adventure</td>\n",
       "      <td>0.0</td>\n",
       "      <td>0.0</td>\n",
       "      <td>10</td>\n",
       "      <td>10</td>\n",
       "      <td>15</td>\n",
       "      <td>True</td>\n",
       "      <td>0.0</td>\n",
       "      <td>...</td>\n",
       "      <td>jean21101999@gmail.com</td>\n",
       "      <td>2020-02-26</td>\n",
       "      <td>2020-02-26</td>\n",
       "      <td>Everyone</td>\n",
       "      <td>https://beniyizibyose.tk/projects/</td>\n",
       "      <td>False</td>\n",
       "      <td>False</td>\n",
       "      <td>6/15/21 20:19</td>\n",
       "      <td>Low</td>\n",
       "      <td>0</td>\n",
       "    </tr>\n",
       "    <tr>\n",
       "      <th>1</th>\n",
       "      <td>Ampere Battery Info</td>\n",
       "      <td>com.webserveis.batteryinfo</td>\n",
       "      <td>Tools</td>\n",
       "      <td>4.4</td>\n",
       "      <td>64.0</td>\n",
       "      <td>5000</td>\n",
       "      <td>5000</td>\n",
       "      <td>7662</td>\n",
       "      <td>True</td>\n",
       "      <td>0.0</td>\n",
       "      <td>...</td>\n",
       "      <td>webserveis@gmail.com</td>\n",
       "      <td>2020-05-21</td>\n",
       "      <td>2021-05-06</td>\n",
       "      <td>Everyone</td>\n",
       "      <td>https://dev4phones.wordpress.com/licencia-de-uso/</td>\n",
       "      <td>True</td>\n",
       "      <td>False</td>\n",
       "      <td>6/15/21 20:19</td>\n",
       "      <td>High</td>\n",
       "      <td>0</td>\n",
       "    </tr>\n",
       "    <tr>\n",
       "      <th>2</th>\n",
       "      <td>Vibook</td>\n",
       "      <td>com.doantiepvien.crm</td>\n",
       "      <td>Productivity</td>\n",
       "      <td>0.0</td>\n",
       "      <td>0.0</td>\n",
       "      <td>50</td>\n",
       "      <td>50</td>\n",
       "      <td>58</td>\n",
       "      <td>True</td>\n",
       "      <td>0.0</td>\n",
       "      <td>...</td>\n",
       "      <td>vnacrewit@gmail.com</td>\n",
       "      <td>2019-08-09</td>\n",
       "      <td>2019-08-19</td>\n",
       "      <td>Everyone</td>\n",
       "      <td>https://www.vietnamairlines.com/vn/en/terms-an...</td>\n",
       "      <td>False</td>\n",
       "      <td>False</td>\n",
       "      <td>6/15/21 20:19</td>\n",
       "      <td>Low</td>\n",
       "      <td>0</td>\n",
       "    </tr>\n",
       "    <tr>\n",
       "      <th>3</th>\n",
       "      <td>Smart City Trichy Public Service Vehicles 17UC...</td>\n",
       "      <td>cst.stJoseph.ug17ucs548</td>\n",
       "      <td>Communication</td>\n",
       "      <td>5.0</td>\n",
       "      <td>5.0</td>\n",
       "      <td>10</td>\n",
       "      <td>10</td>\n",
       "      <td>19</td>\n",
       "      <td>True</td>\n",
       "      <td>0.0</td>\n",
       "      <td>...</td>\n",
       "      <td>climatesmarttech2@gmail.com</td>\n",
       "      <td>2018-09-10</td>\n",
       "      <td>2018-10-13</td>\n",
       "      <td>Everyone</td>\n",
       "      <td>Default Privacy Policy</td>\n",
       "      <td>True</td>\n",
       "      <td>False</td>\n",
       "      <td>6/15/21 20:19</td>\n",
       "      <td>Low</td>\n",
       "      <td>0</td>\n",
       "    </tr>\n",
       "    <tr>\n",
       "      <th>4</th>\n",
       "      <td>GROW.me</td>\n",
       "      <td>com.horodyski.grower</td>\n",
       "      <td>Tools</td>\n",
       "      <td>0.0</td>\n",
       "      <td>0.0</td>\n",
       "      <td>100</td>\n",
       "      <td>100</td>\n",
       "      <td>478</td>\n",
       "      <td>True</td>\n",
       "      <td>0.0</td>\n",
       "      <td>...</td>\n",
       "      <td>rmilekhorodyski@gmail.com</td>\n",
       "      <td>2020-02-21</td>\n",
       "      <td>2018-11-12</td>\n",
       "      <td>Everyone</td>\n",
       "      <td>http://www.horodyski.com.pl</td>\n",
       "      <td>False</td>\n",
       "      <td>False</td>\n",
       "      <td>6/15/21 20:19</td>\n",
       "      <td>Low</td>\n",
       "      <td>0</td>\n",
       "    </tr>\n",
       "  </tbody>\n",
       "</table>\n",
       "<p>5 rows × 24 columns</p>\n",
       "</div>"
      ],
      "text/plain": [
       "                                            App Name  \\\n",
       "0                                            Gakondo   \n",
       "1                                Ampere Battery Info   \n",
       "2                                             Vibook   \n",
       "3  Smart City Trichy Public Service Vehicles 17UC...   \n",
       "4                                            GROW.me   \n",
       "\n",
       "                       App Id       Category  Rating  Rating Count  Installs  \\\n",
       "0         com.ishakwe.gakondo      Adventure     0.0           0.0        10   \n",
       "1  com.webserveis.batteryinfo          Tools     4.4          64.0      5000   \n",
       "2        com.doantiepvien.crm   Productivity     0.0           0.0        50   \n",
       "3     cst.stJoseph.ug17ucs548  Communication     5.0           5.0        10   \n",
       "4        com.horodyski.grower          Tools     0.0           0.0       100   \n",
       "\n",
       "   Minimum Installs  Maximum Installs  Free  Price  ...  \\\n",
       "0                10                15  True    0.0  ...   \n",
       "1              5000              7662  True    0.0  ...   \n",
       "2                50                58  True    0.0  ...   \n",
       "3                10                19  True    0.0  ...   \n",
       "4               100               478  True    0.0  ...   \n",
       "\n",
       "               Developer Email    Released Last Updated Content Rating  \\\n",
       "0       jean21101999@gmail.com  2020-02-26   2020-02-26       Everyone   \n",
       "1         webserveis@gmail.com  2020-05-21   2021-05-06       Everyone   \n",
       "2          vnacrewit@gmail.com  2019-08-09   2019-08-19       Everyone   \n",
       "3  climatesmarttech2@gmail.com  2018-09-10   2018-10-13       Everyone   \n",
       "4    rmilekhorodyski@gmail.com  2020-02-21   2018-11-12       Everyone   \n",
       "\n",
       "                                      Privacy Policy Ad Supported  \\\n",
       "0                 https://beniyizibyose.tk/projects/        False   \n",
       "1  https://dev4phones.wordpress.com/licencia-de-uso/         True   \n",
       "2  https://www.vietnamairlines.com/vn/en/terms-an...        False   \n",
       "3                             Default Privacy Policy         True   \n",
       "4                        http://www.horodyski.com.pl        False   \n",
       "\n",
       "  Editors Choice   Scraped Time Popularity  In App Purchases_True  \n",
       "0          False  6/15/21 20:19        Low                      0  \n",
       "1          False  6/15/21 20:19       High                      0  \n",
       "2          False  6/15/21 20:19        Low                      0  \n",
       "3          False  6/15/21 20:19        Low                      0  \n",
       "4          False  6/15/21 20:19        Low                      0  \n",
       "\n",
       "[5 rows x 24 columns]"
      ]
     },
     "execution_count": 5,
     "metadata": {},
     "output_type": "execute_result"
    }
   ],
   "source": [
    "# One-hot encoding for 'In App Purchases'\n",
    "playstore_encoded = pd.get_dummies(playstore, columns=['In App Purchases'], drop_first=True)\n",
    "\n",
    "# Display the updated DataFrame\n",
    "playstore_encoded.head()"
   ]
  },
  {
   "cell_type": "markdown",
   "metadata": {
    "id": "gsOOzXK5TQVN"
   },
   "source": [
    "___"
   ]
  },
  {
   "cell_type": "markdown",
   "metadata": {
    "id": "NsY1yoQ1TQVN"
   },
   "source": [
    "### One-hot Encoding for \"Ad Supported\""
   ]
  },
  {
   "cell_type": "code",
   "execution_count": 6,
   "metadata": {
    "colab": {
     "base_uri": "https://localhost:8080/",
     "height": 446
    },
    "id": "HUtGdEqiTQVN",
    "outputId": "9ce502ab-8894-495e-c9c4-f8857c674ba7",
    "scrolled": false
   },
   "outputs": [
    {
     "data": {
      "text/html": [
       "<div>\n",
       "<style scoped>\n",
       "    .dataframe tbody tr th:only-of-type {\n",
       "        vertical-align: middle;\n",
       "    }\n",
       "\n",
       "    .dataframe tbody tr th {\n",
       "        vertical-align: top;\n",
       "    }\n",
       "\n",
       "    .dataframe thead th {\n",
       "        text-align: right;\n",
       "    }\n",
       "</style>\n",
       "<table border=\"1\" class=\"dataframe\">\n",
       "  <thead>\n",
       "    <tr style=\"text-align: right;\">\n",
       "      <th></th>\n",
       "      <th>App Name</th>\n",
       "      <th>App Id</th>\n",
       "      <th>Category</th>\n",
       "      <th>Rating</th>\n",
       "      <th>Rating Count</th>\n",
       "      <th>Installs</th>\n",
       "      <th>Minimum Installs</th>\n",
       "      <th>Maximum Installs</th>\n",
       "      <th>Free</th>\n",
       "      <th>Price</th>\n",
       "      <th>...</th>\n",
       "      <th>Developer Email</th>\n",
       "      <th>Released</th>\n",
       "      <th>Last Updated</th>\n",
       "      <th>Content Rating</th>\n",
       "      <th>Privacy Policy</th>\n",
       "      <th>In App Purchases</th>\n",
       "      <th>Editors Choice</th>\n",
       "      <th>Scraped Time</th>\n",
       "      <th>Popularity</th>\n",
       "      <th>Ad Supported_True</th>\n",
       "    </tr>\n",
       "  </thead>\n",
       "  <tbody>\n",
       "    <tr>\n",
       "      <th>0</th>\n",
       "      <td>Gakondo</td>\n",
       "      <td>com.ishakwe.gakondo</td>\n",
       "      <td>Adventure</td>\n",
       "      <td>0.0</td>\n",
       "      <td>0.0</td>\n",
       "      <td>10</td>\n",
       "      <td>10</td>\n",
       "      <td>15</td>\n",
       "      <td>True</td>\n",
       "      <td>0.0</td>\n",
       "      <td>...</td>\n",
       "      <td>jean21101999@gmail.com</td>\n",
       "      <td>2020-02-26</td>\n",
       "      <td>2020-02-26</td>\n",
       "      <td>Everyone</td>\n",
       "      <td>https://beniyizibyose.tk/projects/</td>\n",
       "      <td>False</td>\n",
       "      <td>False</td>\n",
       "      <td>6/15/21 20:19</td>\n",
       "      <td>Low</td>\n",
       "      <td>0</td>\n",
       "    </tr>\n",
       "    <tr>\n",
       "      <th>1</th>\n",
       "      <td>Ampere Battery Info</td>\n",
       "      <td>com.webserveis.batteryinfo</td>\n",
       "      <td>Tools</td>\n",
       "      <td>4.4</td>\n",
       "      <td>64.0</td>\n",
       "      <td>5000</td>\n",
       "      <td>5000</td>\n",
       "      <td>7662</td>\n",
       "      <td>True</td>\n",
       "      <td>0.0</td>\n",
       "      <td>...</td>\n",
       "      <td>webserveis@gmail.com</td>\n",
       "      <td>2020-05-21</td>\n",
       "      <td>2021-05-06</td>\n",
       "      <td>Everyone</td>\n",
       "      <td>https://dev4phones.wordpress.com/licencia-de-uso/</td>\n",
       "      <td>False</td>\n",
       "      <td>False</td>\n",
       "      <td>6/15/21 20:19</td>\n",
       "      <td>High</td>\n",
       "      <td>1</td>\n",
       "    </tr>\n",
       "    <tr>\n",
       "      <th>2</th>\n",
       "      <td>Vibook</td>\n",
       "      <td>com.doantiepvien.crm</td>\n",
       "      <td>Productivity</td>\n",
       "      <td>0.0</td>\n",
       "      <td>0.0</td>\n",
       "      <td>50</td>\n",
       "      <td>50</td>\n",
       "      <td>58</td>\n",
       "      <td>True</td>\n",
       "      <td>0.0</td>\n",
       "      <td>...</td>\n",
       "      <td>vnacrewit@gmail.com</td>\n",
       "      <td>2019-08-09</td>\n",
       "      <td>2019-08-19</td>\n",
       "      <td>Everyone</td>\n",
       "      <td>https://www.vietnamairlines.com/vn/en/terms-an...</td>\n",
       "      <td>False</td>\n",
       "      <td>False</td>\n",
       "      <td>6/15/21 20:19</td>\n",
       "      <td>Low</td>\n",
       "      <td>0</td>\n",
       "    </tr>\n",
       "    <tr>\n",
       "      <th>3</th>\n",
       "      <td>Smart City Trichy Public Service Vehicles 17UC...</td>\n",
       "      <td>cst.stJoseph.ug17ucs548</td>\n",
       "      <td>Communication</td>\n",
       "      <td>5.0</td>\n",
       "      <td>5.0</td>\n",
       "      <td>10</td>\n",
       "      <td>10</td>\n",
       "      <td>19</td>\n",
       "      <td>True</td>\n",
       "      <td>0.0</td>\n",
       "      <td>...</td>\n",
       "      <td>climatesmarttech2@gmail.com</td>\n",
       "      <td>2018-09-10</td>\n",
       "      <td>2018-10-13</td>\n",
       "      <td>Everyone</td>\n",
       "      <td>Default Privacy Policy</td>\n",
       "      <td>False</td>\n",
       "      <td>False</td>\n",
       "      <td>6/15/21 20:19</td>\n",
       "      <td>Low</td>\n",
       "      <td>1</td>\n",
       "    </tr>\n",
       "    <tr>\n",
       "      <th>4</th>\n",
       "      <td>GROW.me</td>\n",
       "      <td>com.horodyski.grower</td>\n",
       "      <td>Tools</td>\n",
       "      <td>0.0</td>\n",
       "      <td>0.0</td>\n",
       "      <td>100</td>\n",
       "      <td>100</td>\n",
       "      <td>478</td>\n",
       "      <td>True</td>\n",
       "      <td>0.0</td>\n",
       "      <td>...</td>\n",
       "      <td>rmilekhorodyski@gmail.com</td>\n",
       "      <td>2020-02-21</td>\n",
       "      <td>2018-11-12</td>\n",
       "      <td>Everyone</td>\n",
       "      <td>http://www.horodyski.com.pl</td>\n",
       "      <td>False</td>\n",
       "      <td>False</td>\n",
       "      <td>6/15/21 20:19</td>\n",
       "      <td>Low</td>\n",
       "      <td>0</td>\n",
       "    </tr>\n",
       "  </tbody>\n",
       "</table>\n",
       "<p>5 rows × 24 columns</p>\n",
       "</div>"
      ],
      "text/plain": [
       "                                            App Name  \\\n",
       "0                                            Gakondo   \n",
       "1                                Ampere Battery Info   \n",
       "2                                             Vibook   \n",
       "3  Smart City Trichy Public Service Vehicles 17UC...   \n",
       "4                                            GROW.me   \n",
       "\n",
       "                       App Id       Category  Rating  Rating Count  Installs  \\\n",
       "0         com.ishakwe.gakondo      Adventure     0.0           0.0        10   \n",
       "1  com.webserveis.batteryinfo          Tools     4.4          64.0      5000   \n",
       "2        com.doantiepvien.crm   Productivity     0.0           0.0        50   \n",
       "3     cst.stJoseph.ug17ucs548  Communication     5.0           5.0        10   \n",
       "4        com.horodyski.grower          Tools     0.0           0.0       100   \n",
       "\n",
       "   Minimum Installs  Maximum Installs  Free  Price  ...  \\\n",
       "0                10                15  True    0.0  ...   \n",
       "1              5000              7662  True    0.0  ...   \n",
       "2                50                58  True    0.0  ...   \n",
       "3                10                19  True    0.0  ...   \n",
       "4               100               478  True    0.0  ...   \n",
       "\n",
       "               Developer Email    Released Last Updated Content Rating  \\\n",
       "0       jean21101999@gmail.com  2020-02-26   2020-02-26       Everyone   \n",
       "1         webserveis@gmail.com  2020-05-21   2021-05-06       Everyone   \n",
       "2          vnacrewit@gmail.com  2019-08-09   2019-08-19       Everyone   \n",
       "3  climatesmarttech2@gmail.com  2018-09-10   2018-10-13       Everyone   \n",
       "4    rmilekhorodyski@gmail.com  2020-02-21   2018-11-12       Everyone   \n",
       "\n",
       "                                      Privacy Policy In App Purchases  \\\n",
       "0                 https://beniyizibyose.tk/projects/            False   \n",
       "1  https://dev4phones.wordpress.com/licencia-de-uso/            False   \n",
       "2  https://www.vietnamairlines.com/vn/en/terms-an...            False   \n",
       "3                             Default Privacy Policy            False   \n",
       "4                        http://www.horodyski.com.pl            False   \n",
       "\n",
       "  Editors Choice   Scraped Time Popularity  Ad Supported_True  \n",
       "0          False  6/15/21 20:19        Low                  0  \n",
       "1          False  6/15/21 20:19       High                  1  \n",
       "2          False  6/15/21 20:19        Low                  0  \n",
       "3          False  6/15/21 20:19        Low                  1  \n",
       "4          False  6/15/21 20:19        Low                  0  \n",
       "\n",
       "[5 rows x 24 columns]"
      ]
     },
     "execution_count": 6,
     "metadata": {},
     "output_type": "execute_result"
    }
   ],
   "source": [
    "# One-hot encoding for 'In App Purchases'\n",
    "playstore_encoded = pd.get_dummies(playstore, columns=['Ad Supported'], drop_first=True)\n",
    "\n",
    "# Display the updated DataFrame\n",
    "playstore_encoded.head()"
   ]
  },
  {
   "cell_type": "markdown",
   "metadata": {
    "id": "73WVG0CbTQVO"
   },
   "source": [
    "---"
   ]
  },
  {
   "cell_type": "code",
   "execution_count": 7,
   "metadata": {
    "colab": {
     "base_uri": "https://localhost:8080/",
     "height": 725
    },
    "id": "o51KW6dnTQVO",
    "outputId": "aab02457-9d09-4912-e96f-6cce1b92ff79"
   },
   "outputs": [
    {
     "data": {
      "image/png": "[encoded data removed]",
      "text/plain": [
       "<Figure size 800x800 with 1 Axes>"
      ]
     },
     "metadata": {},
     "output_type": "display_data"
    }
   ],
   "source": [
    "# Creating a new column 'Popularity_Num' to map 1 to 'High' and 0 to 'Low'\n",
    "playstore['Popularity_Num'] = playstore['Popularity'].map({'High': 1, 'Low': 0})\n",
    "\n",
    "# Count plot for 'Popularity' with count displayed at the top of each bar\n",
    "plt.figure(figsize=(8, 8))\n",
    "sns.countplot(x='Popularity', data=playstore, palette='Set2')\n",
    "\n",
    "# Annotate the count at the top of each bar\n",
    "for p in plt.gca().patches:\n",
    "    plt.gca().annotate(f'{p.get_height()}', (p.get_x() + p.get_width() / 2., p.get_height()),\n",
    "                       ha='center', va='center', xytext=(0, 10), textcoords='offset points', fontsize=12)\n",
    "\n",
    "plt.title('Count of Apps in Each \"Popularity\" Category', fontsize=16)\n",
    "plt.xlabel('Popularity', fontsize=14)\n",
    "plt.ylabel('Count', fontsize=14)\n",
    "plt.show()"
   ]
  },
  {
   "cell_type": "markdown",
   "metadata": {
    "id": "DWs__oBzTQVO"
   },
   "source": [
    "___"
   ]
  },
  {
   "cell_type": "markdown",
   "metadata": {
    "id": "HSKa2z61TQVO"
   },
   "source": [
    "### Handling the imbalance before implementing the Machine Learning Models\n",
    "### Oversampling the minority class i.e \"High\""
   ]
  },
  {
   "cell_type": "code",
   "execution_count": 8,
   "metadata": {
    "colab": {
     "base_uri": "https://localhost:8080/",
     "height": 725
    },
    "id": "5B9D3rDMTQVO",
    "outputId": "12ca4241-9fb1-423f-db26-5c7654b9d7d4"
   },
   "outputs": [
    {
     "data": {
      "image/png": "[encoded data removed]",
      "text/plain": [
       "<Figure size 800x800 with 1 Axes>"
      ]
     },
     "metadata": {},
     "output_type": "display_data"
    }
   ],
   "source": [
    "from sklearn.utils import resample\n",
    "\n",
    "# Separating the majority and minority classes\n",
    "majority_class = playstore[playstore['Popularity_Num'] == 1]\n",
    "minority_class = playstore[playstore['Popularity_Num'] == 0]\n",
    "\n",
    "# Oversampling the minority class\n",
    "oversampled_minority = resample(minority_class, replace=True, n_samples=len(majority_class), random_state=42)\n",
    "\n",
    "# Combining the oversampled minority class with the original majority class\n",
    "balanced_data = pd.concat([majority_class, oversampled_minority])\n",
    "\n",
    "# Shuffling the dataset\n",
    "balanced_data = balanced_data.sample(frac=1, random_state=42)\n",
    "\n",
    "# Displaying the count plot for the balanced dataset\n",
    "plt.figure(figsize=(8, 8))\n",
    "ax = sns.countplot(x='Popularity', data=balanced_data, palette='Set2')\n",
    "\n",
    "# Annotating the count at the top of each bar\n",
    "for p in ax.patches:\n",
    "    ax.annotate(f'{p.get_height()}', (p.get_x() + p.get_width() / 2., p.get_height()),\n",
    "                ha='center', va='center', xytext=(0, 10), textcoords='offset points', fontsize=12)\n",
    "\n",
    "plt.title('Count of Apps in Each \"Popularity\" Category (Balanced)', fontsize=16)\n",
    "plt.xlabel('Popularity', fontsize=14)\n",
    "plt.ylabel('Count', fontsize=14)\n",
    "plt.show()"
   ]
  },
  {
   "cell_type": "markdown",
   "metadata": {
    "id": "8cDOeyZlTQVO"
   },
   "source": [
    "___"
   ]
  },
  {
   "cell_type": "code",
   "execution_count": 9,
   "metadata": {
    "colab": {
     "base_uri": "https://localhost:8080/"
    },
    "id": "u7kGmaEXTQVO",
    "outputId": "71d6a2a0-6115-4e13-c4b6-1a27eba05dde"
   },
   "outputs": [
    {
     "name": "stdout",
     "output_type": "stream",
     "text": [
      "Training set shape: (365821, 3) (365821,)\n",
      "Testing set shape: (121941, 3) (121941,)\n"
     ]
    }
   ],
   "source": [
    "# Features (X) and target variable (Y)\n",
    "X = balanced_data[['Rating', 'Ad Supported', 'In App Purchases']]\n",
    "Y = balanced_data['Popularity_Num']\n",
    "\n",
    "# Splitting the data into training and testing sets (75% training, 25% testing)\n",
    "X_train, X_test, Y_train, Y_test = train_test_split(X, Y, test_size=0.25, random_state=42)\n",
    "\n",
    "# Displaying the shape of the training and testing sets\n",
    "print(\"Training set shape:\", X_train.shape, Y_train.shape)\n",
    "print(\"Testing set shape:\", X_test.shape, Y_test.shape)"
   ]
  },
  {
   "cell_type": "markdown",
   "metadata": {
    "id": "uB7RhyYlTQVO"
   },
   "source": [
    "### MODEL 1: Logistic Regression"
   ]
  },
  {
   "cell_type": "code",
   "execution_count": 10,
   "metadata": {
    "colab": {
     "base_uri": "https://localhost:8080/"
    },
    "id": "BnwJJNIkTQVO",
    "outputId": "64d32ef3-ae13-4741-b640-34f4be566184"
   },
   "outputs": [
    {
     "name": "stdout",
     "output_type": "stream",
     "text": [
      "Training Accuracy: 0.7720387839954513\n",
      "Testing Accuracy: 0.7714796499946696\n",
      "Classification Report (Testing Set):\n",
      "               precision    recall  f1-score   support\n",
      "\n",
      "           0       0.86      0.65      0.74     60966\n",
      "           1       0.72      0.89      0.80     60975\n",
      "\n",
      "    accuracy                           0.77    121941\n",
      "   macro avg       0.79      0.77      0.77    121941\n",
      "weighted avg       0.79      0.77      0.77    121941\n",
      "\n",
      "Overall Precision for Logistic Regression: 0.7178768376304603\n"
     ]
    }
   ],
   "source": [
    "# Initializing the logistic regression model\n",
    "logreg_model = LogisticRegression(random_state=42)\n",
    "\n",
    "# Training the model on the training set\n",
    "logreg_model.fit(X_train, Y_train)\n",
    "\n",
    "# Predicting the target variable on the training set\n",
    "Y_train_pred = logreg_model.predict(X_train)\n",
    "\n",
    "# Predicting the target variable on the testing set\n",
    "Y_test_pred = logreg_model.predict(X_test)\n",
    "\n",
    "# Evaluating the model on the training set\n",
    "training_accuracy = accuracy_score(Y_train, Y_train_pred)\n",
    "print(\"Training Accuracy:\", training_accuracy)\n",
    "\n",
    "# Evaluating the model on the testing set\n",
    "testing_accuracy = accuracy_score(Y_test, Y_test_pred)\n",
    "print(\"Testing Accuracy:\", testing_accuracy)\n",
    "\n",
    "# Displaying the classification report for the testing set\n",
    "classification_rep = classification_report(Y_test, Y_test_pred)\n",
    "print(\"Classification Report (Testing Set):\\n\", classification_rep)\n",
    "\n",
    "# Predicting the probabilities on the testing set\n",
    "Y_test_probs = logreg_model.predict_proba(X_test)[:, 1]\n",
    "\n",
    "# Overall precision on the testing set\n",
    "overall_precision_logreg = precision_score(Y_test, Y_test_pred)\n",
    "print(\"Overall Precision for Logistic Regression:\", overall_precision_logreg)"
   ]
  },
  {
   "cell_type": "markdown",
   "metadata": {
    "id": "1h1VzUxdTQVO"
   },
   "source": [
    "### Tried Threshold Tuning but there was only a <u>slight increase in the overall precision</u>"
   ]
  },
  {
   "cell_type": "code",
   "execution_count": 11,
   "metadata": {
    "colab": {
     "base_uri": "https://localhost:8080/",
     "height": 850
    },
    "id": "-Z2vHzEfTQVO",
    "outputId": "8f1acb32-68be-48c6-a9bb-7221c184d226"
   },
   "outputs": [
    {
     "name": "stdout",
     "output_type": "stream",
     "text": [
      "Classification Report with Adjusted Threshold (Testing Set):\n",
      "               precision    recall  f1-score   support\n",
      "\n",
      "           0       0.91      0.63      0.74     60966\n",
      "           1       0.72      0.94      0.81     60975\n",
      "\n",
      "    accuracy                           0.78    121941\n",
      "   macro avg       0.81      0.78      0.78    121941\n",
      "weighted avg       0.81      0.78      0.78    121941\n",
      "\n",
      "Accuracy with Adjusted Threshold: 0.7823127578091044\n",
      "Overall Precision with Adjusted Threshold for Logistic Regression: 0.7151283397065807\n",
      "True Positives (TP): 57226\n",
      "True Negatives (TN): 38170\n",
      "False Positives (FP): 22796\n",
      "False Negatives (FN): 3749\n"
     ]
    },
    {
     "data": {
      "image/png": "[encoded data removed]",
      "text/plain": [
       "<Figure size 800x600 with 2 Axes>"
      ]
     },
     "metadata": {},
     "output_type": "display_data"
    }
   ],
   "source": [
    "# Adjusting the classification threshold to 0.4\n",
    "threshold = 0.4\n",
    "Y_test_pred_thresh = (logreg_model.predict_proba(X_test)[:, 1] >= threshold).astype(int)\n",
    "\n",
    "# Evaluating the model with the adjusted threshold\n",
    "precision_thresh = precision_score(Y_test, Y_test_pred_thresh)\n",
    "recall_thresh = recall_score(Y_test, Y_test_pred_thresh)\n",
    "f1_thresh = f1_score(Y_test, Y_test_pred_thresh)\n",
    "\n",
    "# Displaying the classification report for the testing set with the adjusted threshold\n",
    "classification_rep_thresh = classification_report(Y_test, Y_test_pred_thresh)\n",
    "print(\"Classification Report with Adjusted Threshold (Testing Set):\\n\", classification_rep_thresh)\n",
    "\n",
    "# Calculating accuracy for the adjusted threshold\n",
    "accuracy_thresh = accuracy_score(Y_test, Y_test_pred_thresh)\n",
    "print(\"Accuracy with Adjusted Threshold:\", accuracy_thresh)\n",
    "\n",
    "# Overall precision with adjusted threshold on the testing set\n",
    "overall_precision_thresh = precision_score(Y_test, Y_test_pred_thresh)\n",
    "print(\"Overall Precision with Adjusted Threshold for Logistic Regression:\", overall_precision_thresh)\n",
    "\n",
    "# Computing confusion matrix for the adjusted threshold\n",
    "cm_thresh = confusion_matrix(Y_test, Y_test_pred_thresh)\n",
    "\n",
    "# Extracting TP, TN, FP, FN from confusion matrix\n",
    "TN, FP, FN, TP = cm_thresh.ravel()\n",
    "\n",
    "# Displaying TP, TN, FP, FN along with the confusion matrix\n",
    "print(f\"True Positives (TP): {TP}\")\n",
    "print(f\"True Negatives (TN): {TN}\")\n",
    "print(f\"False Positives (FP): {FP}\")\n",
    "print(f\"False Negatives (FN): {FN}\")\n",
    "\n",
    "# Plotting confusion matrix for the adjusted threshold\n",
    "plt.figure(figsize=(8, 6))\n",
    "sns.heatmap(cm_thresh, annot=True, fmt=\"d\", cmap=\"Blues\", linewidths=.5, square=True)\n",
    "plt.title('Confusion Matrix for Logistic Regression (after Threshold Tuning)')\n",
    "plt.xlabel('Predicted label')\n",
    "plt.ylabel('Actual label')\n",
    "plt.show()"
   ]
  },
  {
   "cell_type": "markdown",
   "metadata": {
    "id": "ojoMF7pzTQVO"
   },
   "source": [
    "___"
   ]
  },
  {
   "cell_type": "markdown",
   "metadata": {
    "id": "Ku3oMd7KTQVO"
   },
   "source": [
    "___"
   ]
  },
  {
   "cell_type": "markdown",
   "metadata": {
    "id": "Gq80fYYYTQVO"
   },
   "source": [
    "### MODEL 2: K-NN (K-Nearest Neighbor)"
   ]
  },
  {
   "cell_type": "code",
   "execution_count": 12,
   "metadata": {
    "colab": {
     "base_uri": "https://localhost:8080/"
    },
    "id": "cqhG5y-5TQVO",
    "outputId": "03162e3d-0a44-424b-f77a-8208ccddeb25"
   },
   "outputs": [
    {
     "name": "stdout",
     "output_type": "stream",
     "text": [
      "KNN Training Accuracy: 0.7779487782276031\n",
      "KNN Testing Accuracy: 0.7756291977267695\n",
      "KNN Classification Report (Testing Set):\n",
      "               precision    recall  f1-score   support\n",
      "\n",
      "           0       0.81      0.72      0.76     60966\n",
      "           1       0.75      0.83      0.79     60975\n",
      "\n",
      "    accuracy                           0.78    121941\n",
      "   macro avg       0.78      0.78      0.77    121941\n",
      "weighted avg       0.78      0.78      0.77    121941\n",
      "\n",
      "Overall Precision for KNN: 0.748209407073765\n"
     ]
    }
   ],
   "source": [
    "# Initializing the KNN model\n",
    "knn_model = KNeighborsClassifier()\n",
    "\n",
    "# Training the model on the training set\n",
    "knn_model.fit(X_train, Y_train)\n",
    "\n",
    "# Predicting the target variable on the training set\n",
    "Y_train_pred_knn = knn_model.predict(X_train)\n",
    "\n",
    "# Predicting the target variable on the testing set\n",
    "Y_test_pred_knn = knn_model.predict(X_test)\n",
    "\n",
    "# Evaluating the KNN model on the training set\n",
    "training_accuracy_knn = accuracy_score(Y_train, Y_train_pred_knn)\n",
    "print(\"KNN Training Accuracy:\", training_accuracy_knn)\n",
    "\n",
    "# Evaluating the KNN model on the testing set\n",
    "testing_accuracy_knn = accuracy_score(Y_test, Y_test_pred_knn)\n",
    "print(\"KNN Testing Accuracy:\", testing_accuracy_knn)\n",
    "\n",
    "# Displaying the classification report for the testing set\n",
    "classification_rep_knn = classification_report(Y_test, Y_test_pred_knn)\n",
    "print(\"KNN Classification Report (Testing Set):\\n\", classification_rep_knn)\n",
    "\n",
    "# Overall precision on the testing set\n",
    "overall_precision_knn = precision_score(Y_test, Y_test_pred_knn)\n",
    "print(\"Overall Precision for KNN:\", overall_precision_knn)"
   ]
  },
  {
   "cell_type": "markdown",
   "metadata": {
    "id": "xXcia6eHTQVO"
   },
   "source": [
    "### Tried Hyperparameter Tuning for K-NN on a small subset of dataset but there was only a <u>slight increase in the overall precision</u>"
   ]
  },
  {
   "cell_type": "code",
   "execution_count": 13,
   "metadata": {
    "colab": {
     "base_uri": "https://localhost:8080/",
     "height": 868
    },
    "id": "eC26J2rsTQVO",
    "outputId": "f9842b8e-ffe3-4061-d901-96d119110cde",
    "scrolled": false
   },
   "outputs": [
    {
     "name": "stdout",
     "output_type": "stream",
     "text": [
      "Best Hyperparameters for KNN: {'metric': 'euclidean', 'n_neighbors': 3, 'weights': 'distance'}\n",
      "Best KNN Testing Accuracy: 0.7660015909333202\n",
      "Best KNN Classification Report (Testing Set):\n",
      "               precision    recall  f1-score   support\n",
      "\n",
      "           0       0.79      0.73      0.76     60966\n",
      "           1       0.75      0.81      0.77     60975\n",
      "\n",
      "    accuracy                           0.77    121941\n",
      "   macro avg       0.77      0.77      0.77    121941\n",
      "weighted avg       0.77      0.77      0.77    121941\n",
      "\n",
      "Overall Precision for Best KNN Model: 0.7464934275510979\n",
      "True Positives (TP): 49123\n",
      "True Negatives (TN): 44284\n",
      "False Positives (FP): 16682\n",
      "False Negatives (FN): 11852\n"
     ]
    },
    {
     "data": {
      "image/png": "[encoded data removed]",
      "text/plain": [
       "<Figure size 800x600 with 2 Axes>"
      ]
     },
     "metadata": {},
     "output_type": "display_data"
    }
   ],
   "source": [
    "# Using a smaller subset of the data for hyperparameter tuning\n",
    "tuning_subset_size_knn = 2000\n",
    "X_train_tune_subset_knn = X_train[:tuning_subset_size_knn]\n",
    "Y_train_tune_subset_knn = Y_train[:tuning_subset_size_knn]\n",
    "\n",
    "# Define the parameter grid for KNN\n",
    "param_grid_knn = {\n",
    "    'n_neighbors': [3, 5, 7, 9],  # You can adjust this range based on your problem\n",
    "    'weights': ['uniform', 'distance'],\n",
    "    'metric': ['euclidean', 'manhattan']\n",
    "}\n",
    "\n",
    "# Initialize the KNN model\n",
    "knn_model_tuned = KNeighborsClassifier()\n",
    "\n",
    "# Initialize GridSearchCV\n",
    "grid_search_knn = GridSearchCV(estimator=knn_model_tuned, param_grid=param_grid_knn, scoring='precision', cv=5)\n",
    "\n",
    "# Fit the model to the tuning subset\n",
    "grid_search_knn.fit(X_train_tune_subset_knn, Y_train_tune_subset_knn)\n",
    "\n",
    "# Print the best hyperparameters found\n",
    "print(\"Best Hyperparameters for KNN:\", grid_search_knn.best_params_)\n",
    "\n",
    "# Get the best KNN model\n",
    "best_knn_model = grid_search_knn.best_estimator_\n",
    "\n",
    "# Predict on the testing set using the best model\n",
    "Y_test_pred_best_knn = best_knn_model.predict(X_test)\n",
    "\n",
    "# Evaluate the best model\n",
    "best_testing_accuracy_knn = accuracy_score(Y_test, Y_test_pred_best_knn)\n",
    "print(\"Best KNN Testing Accuracy:\", best_testing_accuracy_knn)\n",
    "\n",
    "# Display the classification report for the testing set with the best model\n",
    "classification_rep_best_knn = classification_report(Y_test, Y_test_pred_best_knn)\n",
    "print(\"Best KNN Classification Report (Testing Set):\\n\", classification_rep_best_knn)\n",
    "\n",
    "# Overall precision for the best KNN model on the testing set\n",
    "overall_precision_best_knn = precision_score(Y_test, Y_test_pred_best_knn)\n",
    "print(\"Overall Precision for Best KNN Model:\", overall_precision_best_knn)\n",
    "\n",
    "# Compute confusion matrix for the best KNN model\n",
    "cm_best_knn = confusion_matrix(Y_test, Y_test_pred_best_knn)\n",
    "\n",
    "# Extracting TP, TN, FP, FN from confusion matrix\n",
    "TN, FP, FN, TP = cm_best_knn.ravel()\n",
    "\n",
    "# Displaying TP, TN, FP, FN along with the confusion matrix\n",
    "print(f\"True Positives (TP): {TP}\")\n",
    "print(f\"True Negatives (TN): {TN}\")\n",
    "print(f\"False Positives (FP): {FP}\")\n",
    "print(f\"False Negatives (FN): {FN}\")\n",
    "\n",
    "# Plotting confusion matrix for the best KNN model\n",
    "plt.figure(figsize=(8, 6))\n",
    "sns.heatmap(cm_best_knn, annot=True, fmt=\"d\", cmap=\"Blues\", linewidths=.5, square=True)\n",
    "plt.title('Confusion Matrix for KNN Model (after Hyperparameter Tuning)')\n",
    "plt.xlabel('Predicted label')\n",
    "plt.ylabel('Actual label')\n",
    "plt.show()"
   ]
  },
  {
   "cell_type": "markdown",
   "metadata": {
    "id": "jx66JDQDTQVP"
   },
   "source": [
    "___"
   ]
  },
  {
   "cell_type": "markdown",
   "metadata": {
    "id": "sUVAlX-7TQVP"
   },
   "source": [
    "___"
   ]
  },
  {
   "cell_type": "markdown",
   "metadata": {
    "id": "zzRJNh3ITQVP"
   },
   "source": [
    "### MODEL 3: SVM (Support Vector Machine)"
   ]
  },
  {
   "cell_type": "code",
   "execution_count": 14,
   "metadata": {
    "colab": {
     "base_uri": "https://localhost:8080/"
    },
    "id": "bVkpObakTQVP",
    "outputId": "807f533a-6034-4fac-e745-da4dbf8d5dc3"
   },
   "outputs": [
    {
     "name": "stdout",
     "output_type": "stream",
     "text": [
      "SVM Training Accuracy: 0.8037\n",
      "SVM Testing Accuracy: 0.7973036140428568\n",
      "SVM Classification Report (Testing Set):\n",
      "               precision    recall  f1-score   support\n",
      "\n",
      "           0       1.00      0.59      0.75     60966\n",
      "           1       0.71      1.00      0.83     60975\n",
      "\n",
      "    accuracy                           0.80    121941\n",
      "   macro avg       0.86      0.80      0.79    121941\n",
      "weighted avg       0.86      0.80      0.79    121941\n",
      "\n",
      "Overall Precision for SVM: 0.7115600056014564\n"
     ]
    }
   ],
   "source": [
    "# Initializing the SVM model\n",
    "svm_model = SVC(random_state=42)\n",
    "\n",
    "# Using a subset of the data for faster execution\n",
    "subset_size = 10000\n",
    "X_train_subset = X_train[:subset_size]\n",
    "Y_train_subset = Y_train[:subset_size]\n",
    "\n",
    "# Training the SVM model on the training set subset\n",
    "svm_model.fit(X_train_subset, Y_train_subset)\n",
    "\n",
    "# Predicting the target variable on the training set\n",
    "Y_train_pred_svm = svm_model.predict(X_train_subset)\n",
    "\n",
    "# Predicting the target variable on the testing set\n",
    "Y_test_pred_svm = svm_model.predict(X_test)\n",
    "\n",
    "# Evaluating the SVM model on the training set\n",
    "training_accuracy_svm = accuracy_score(Y_train_subset, Y_train_pred_svm)\n",
    "print(\"SVM Training Accuracy:\", training_accuracy_svm)\n",
    "\n",
    "# Evaluating the SVM model on the testing set\n",
    "testing_accuracy_svm = accuracy_score(Y_test, Y_test_pred_svm)\n",
    "print(\"SVM Testing Accuracy:\", testing_accuracy_svm)\n",
    "\n",
    "# Displaying the classification report for the testing set\n",
    "classification_rep_svm = classification_report(Y_test, Y_test_pred_svm)\n",
    "print(\"SVM Classification Report (Testing Set):\\n\", classification_rep_svm)\n",
    "\n",
    "# Overall precision for the SVM model on the testing set\n",
    "overall_precision_svm = precision_score(Y_test, Y_test_pred_svm)\n",
    "print(\"Overall Precision for SVM:\", overall_precision_svm)"
   ]
  },
  {
   "cell_type": "markdown",
   "metadata": {
    "id": "xwkr7O_xTQVP"
   },
   "source": [
    "### Trying Hyperparameter Tuning using GridSearchCV on a small subset of the dataset to improve the precision and the <u>precision was increased</u>"
   ]
  },
  {
   "cell_type": "code",
   "execution_count": 15,
   "metadata": {
    "colab": {
     "base_uri": "https://localhost:8080/",
     "height": 868
    },
    "id": "nKef7HwtTQVP",
    "outputId": "9e9d329c-2b64-4fdf-bcf2-a17e33c0e835"
   },
   "outputs": [
    {
     "name": "stdout",
     "output_type": "stream",
     "text": [
      "Best Hyperparameters: {'C': 1, 'gamma': 1, 'kernel': 'rbf'}\n",
      "Best SVM Testing Accuracy: 0.8187320097424164\n",
      "Best SVM Classification Report (Testing Set):\n",
      "               precision    recall  f1-score   support\n",
      "\n",
      "           0       0.96      0.66      0.79     60966\n",
      "           1       0.74      0.97      0.84     60975\n",
      "\n",
      "    accuracy                           0.82    121941\n",
      "   macro avg       0.85      0.82      0.81    121941\n",
      "weighted avg       0.85      0.82      0.81    121941\n",
      "\n",
      "Overall Precision for Best SVM Model: 0.7430318490452789\n",
      "True Positives (TP): 59421\n",
      "True Negatives (TN): 40416\n",
      "False Positives (FP): 20550\n",
      "False Negatives (FN): 1554\n"
     ]
    },
    {
     "data": {
      "image/png": "[encoded data removed]",
      "text/plain": [
       "<Figure size 800x600 with 2 Axes>"
      ]
     },
     "metadata": {},
     "output_type": "display_data"
    }
   ],
   "source": [
    "from sklearn.model_selection import GridSearchCV\n",
    "from sklearn.svm import SVC\n",
    "from sklearn.metrics import accuracy_score, classification_report, confusion_matrix, precision_score\n",
    "import matplotlib.pyplot as plt\n",
    "import seaborn as sns\n",
    "\n",
    "# Using a smaller subset of the data for hyperparameter tuning\n",
    "tuning_subset_size = 2000\n",
    "X_train_tune_subset = X_train[:tuning_subset_size]\n",
    "Y_train_tune_subset = Y_train[:tuning_subset_size]\n",
    "\n",
    "# Defining the parameter grid\n",
    "param_grid = {'C': [0.1, 1, 10],\n",
    "              'gamma': [0.01, 0.1, 1],\n",
    "              'kernel': ['linear', 'rbf', 'poly']}\n",
    "\n",
    "# Initializing the SVM model\n",
    "svm_model = SVC(random_state=42)\n",
    "\n",
    "# Initializing GridSearchCV\n",
    "grid_search = GridSearchCV(estimator=svm_model, param_grid=param_grid, scoring='precision', cv=5)\n",
    "\n",
    "# Fitting the model to the tuning subset\n",
    "grid_search.fit(X_train_tune_subset, Y_train_tune_subset)\n",
    "\n",
    "# Printing the best hyperparameters found\n",
    "print(\"Best Hyperparameters:\", grid_search.best_params_)\n",
    "\n",
    "# Getting the best model\n",
    "best_svm_model = grid_search.best_estimator_\n",
    "\n",
    "# Predicting on the testing set using the best model\n",
    "Y_test_pred_best_svm = best_svm_model.predict(X_test)\n",
    "\n",
    "# Evaluating the best model\n",
    "best_testing_accuracy_svm = accuracy_score(Y_test, Y_test_pred_best_svm)\n",
    "print(\"Best SVM Testing Accuracy:\", best_testing_accuracy_svm)\n",
    "\n",
    "# Displaying the classification report for the testing set with the best model\n",
    "classification_rep_best_svm = classification_report(Y_test, Y_test_pred_best_svm)\n",
    "print(\"Best SVM Classification Report (Testing Set):\\n\", classification_rep_best_svm)\n",
    "\n",
    "# Overall precision for the best SVM model on the testing set\n",
    "overall_precision_best_svm = precision_score(Y_test, Y_test_pred_best_svm)\n",
    "print(\"Overall Precision for Best SVM Model:\", overall_precision_best_svm)\n",
    "\n",
    "# Computing confusion matrix for the best SVM model\n",
    "cm_best_svm = confusion_matrix(Y_test, Y_test_pred_best_svm)\n",
    "\n",
    "# Extracting TP, TN, FP, FN from confusion matrix\n",
    "TN, FP, FN, TP = cm_best_svm.ravel()\n",
    "\n",
    "# Displaying TP, TN, FP, FN along with the confusion matrix\n",
    "print(f\"True Positives (TP): {TP}\")\n",
    "print(f\"True Negatives (TN): {TN}\")\n",
    "print(f\"False Positives (FP): {FP}\")\n",
    "print(f\"False Negatives (FN): {FN}\")\n",
    "\n",
    "# Plotting confusion matrix for the best SVM model\n",
    "plt.figure(figsize=(8, 6))\n",
    "sns.heatmap(cm_best_svm, annot=True, fmt=\"d\", cmap=\"Blues\", linewidths=.5, square=True)\n",
    "plt.title('Confusion Matrix for SVM (after Hyperparameter Tuning)')\n",
    "plt.xlabel('Predicted label')\n",
    "plt.ylabel('Actual label')\n",
    "plt.show()"
   ]
  },
  {
   "cell_type": "markdown",
   "metadata": {
    "id": "kAM8TqfHTQVP"
   },
   "source": [
    "___"
   ]
  },
  {
   "cell_type": "markdown",
   "metadata": {
    "id": "2IbfDd3nTQVP"
   },
   "source": [
    "___"
   ]
  },
  {
   "cell_type": "markdown",
   "metadata": {
    "id": "auWJzs6iTQVP"
   },
   "source": [
    "### MODEL 4: Decision Tree"
   ]
  },
  {
   "cell_type": "code",
   "execution_count": 16,
   "metadata": {
    "colab": {
     "base_uri": "https://localhost:8080/"
    },
    "id": "MuFXqFSgTQVP",
    "outputId": "bf4e4944-fb11-48c7-d5a1-1ebc95d474f6"
   },
   "outputs": [
    {
     "name": "stdout",
     "output_type": "stream",
     "text": [
      "Decision Tree Training Accuracy: 0.8228723884085386\n",
      "Decision Tree Testing Accuracy: 0.820355745811499\n",
      "Decision Tree Classification Report (Testing Set):\n",
      "               precision    recall  f1-score   support\n",
      "\n",
      "           0       0.99      0.65      0.78     60966\n",
      "           1       0.74      0.99      0.85     60975\n",
      "\n",
      "    accuracy                           0.82    121941\n",
      "   macro avg       0.86      0.82      0.81    121941\n",
      "weighted avg       0.86      0.82      0.81    121941\n",
      "\n",
      "Overall Precision for Decision Tree Model: 0.7384728071781725\n"
     ]
    }
   ],
   "source": [
    "# Initializing the Decision Tree model\n",
    "decision_tree_model = DecisionTreeClassifier(random_state=42)\n",
    "\n",
    "# Training the model on the training set\n",
    "decision_tree_model.fit(X_train, Y_train)\n",
    "\n",
    "# Predicting the target variable on the training set\n",
    "Y_train_pred_tree = decision_tree_model.predict(X_train)\n",
    "\n",
    "# Predicting the target variable on the testing set\n",
    "Y_test_pred_tree = decision_tree_model.predict(X_test)\n",
    "\n",
    "# Evaluating the Decision Tree model on the training set\n",
    "training_accuracy_tree = accuracy_score(Y_train, Y_train_pred_tree)\n",
    "print(\"Decision Tree Training Accuracy:\", training_accuracy_tree)\n",
    "\n",
    "# Evaluating the Decision Tree model on the testing set\n",
    "testing_accuracy_tree = accuracy_score(Y_test, Y_test_pred_tree)\n",
    "print(\"Decision Tree Testing Accuracy:\", testing_accuracy_tree)\n",
    "\n",
    "# Displaying the classification report for the testing set\n",
    "classification_rep_tree = classification_report(Y_test, Y_test_pred_tree)\n",
    "print(\"Decision Tree Classification Report (Testing Set):\\n\", classification_rep_tree)\n",
    "\n",
    "# Overall precision for the Decision Tree model on the testing set\n",
    "overall_precision_tree = precision_score(Y_test, Y_test_pred_tree)\n",
    "print(\"Overall Precision for Decision Tree Model:\", overall_precision_tree)"
   ]
  },
  {
   "cell_type": "markdown",
   "metadata": {
    "id": "DH5juaJETQVP"
   },
   "source": [
    "### Tried Hyperparameter Tuning for Decision Tree but there was <u>no improvement in the precision</u>"
   ]
  },
  {
   "cell_type": "code",
   "execution_count": 17,
   "metadata": {
    "colab": {
     "base_uri": "https://localhost:8080/",
     "height": 868
    },
    "id": "FazUh_UjTQVP",
    "outputId": "e988ad10-0deb-4c18-9d84-061f30b6c083"
   },
   "outputs": [
    {
     "name": "stdout",
     "output_type": "stream",
     "text": [
      "Best Hyperparameters: {'max_depth': None, 'min_samples_leaf': 4, 'min_samples_split': 2}\n",
      "Best Decision Tree Testing Accuracy: 0.820355745811499\n",
      "Best Decision Tree Classification Report (Testing Set):\n",
      "               precision    recall  f1-score   support\n",
      "\n",
      "           0       0.99      0.65      0.78     60966\n",
      "           1       0.74      0.99      0.85     60975\n",
      "\n",
      "    accuracy                           0.82    121941\n",
      "   macro avg       0.86      0.82      0.81    121941\n",
      "weighted avg       0.86      0.82      0.81    121941\n",
      "\n",
      "Overall Precision for Best Decision Tree Model: 0.7384728071781725\n",
      "True Positives (TP): 60492\n",
      "True Negatives (TN): 39543\n",
      "False Positives (FP): 21423\n",
      "False Negatives (FN): 483\n"
     ]
    },
    {
     "data": {
      "image/png": "[encoded data removed]",
      "text/plain": [
       "<Figure size 800x600 with 2 Axes>"
      ]
     },
     "metadata": {},
     "output_type": "display_data"
    }
   ],
   "source": [
    "from sklearn.model_selection import GridSearchCV\n",
    "from sklearn.tree import DecisionTreeClassifier\n",
    "from sklearn.metrics import accuracy_score, classification_report, confusion_matrix, precision_score\n",
    "import matplotlib.pyplot as plt\n",
    "import seaborn as sns\n",
    "\n",
    "# Defining the parameter grid\n",
    "param_grid = {\n",
    "    'max_depth': [None, 5, 10, 15],\n",
    "    'min_samples_split': [2, 5, 10],\n",
    "    'min_samples_leaf': [1, 2, 4]\n",
    "}\n",
    "\n",
    "# Initializing the Decision Tree model\n",
    "decision_tree_model = DecisionTreeClassifier(random_state=42)\n",
    "\n",
    "# Initializing GridSearchCV\n",
    "grid_search = GridSearchCV(estimator=decision_tree_model, param_grid=param_grid, scoring='precision', cv=5)\n",
    "\n",
    "# Fitting the model to the training data\n",
    "grid_search.fit(X_train, Y_train)\n",
    "\n",
    "# Printing the best hyperparameters found\n",
    "print(\"Best Hyperparameters:\", grid_search.best_params_)\n",
    "\n",
    "# Getting the best model\n",
    "best_decision_tree_model = grid_search.best_estimator_\n",
    "\n",
    "# Predicting on the testing set using the best model\n",
    "Y_test_pred_best_tree = best_decision_tree_model.predict(X_test)\n",
    "\n",
    "# Evaluating the best model\n",
    "best_testing_accuracy_tree = accuracy_score(Y_test, Y_test_pred_best_tree)\n",
    "print(\"Best Decision Tree Testing Accuracy:\", best_testing_accuracy_tree)\n",
    "\n",
    "# Displaying the classification report for the testing set with the best model\n",
    "classification_rep_best_tree = classification_report(Y_test, Y_test_pred_best_tree)\n",
    "print(\"Best Decision Tree Classification Report (Testing Set):\\n\", classification_rep_best_tree)\n",
    "\n",
    "# Overall precision for the best Decision Tree model on the testing set\n",
    "overall_precision_best_tree = precision_score(Y_test, Y_test_pred_best_tree)\n",
    "print(\"Overall Precision for Best Decision Tree Model:\", overall_precision_best_tree)\n",
    "\n",
    "# Computing confusion matrix for the best Decision Tree model\n",
    "cm_best_tree = confusion_matrix(Y_test, Y_test_pred_best_tree)\n",
    "\n",
    "# Extracting TP, TN, FP, FN from confusion matrix\n",
    "TN, FP, FN, TP = cm_best_tree.ravel()\n",
    "\n",
    "# Displaying TP, TN, FP, FN along with the confusion matrix\n",
    "print(f\"True Positives (TP): {TP}\")\n",
    "print(f\"True Negatives (TN): {TN}\")\n",
    "print(f\"False Positives (FP): {FP}\")\n",
    "print(f\"False Negatives (FN): {FN}\")\n",
    "\n",
    "# Plotting confusion matrix for the best Decision Tree model\n",
    "plt.figure(figsize=(8, 6))\n",
    "sns.heatmap(cm_best_tree, annot=True, fmt=\"d\", cmap=\"Blues\", linewidths=.5, square=True)\n",
    "plt.title('Confusion Matrix for Decision Tree Model (after Hyperparameter Tuning)')\n",
    "plt.xlabel('Predicted label')\n",
    "plt.ylabel('Actual label')\n",
    "plt.show()"
   ]
  },
  {
   "cell_type": "markdown",
   "metadata": {
    "id": "q5Yfc31zTQVP"
   },
   "source": [
    "___"
   ]
  },
  {
   "cell_type": "markdown",
   "metadata": {
    "id": "7q7n43OZTQVP"
   },
   "source": [
    "___"
   ]
  },
  {
   "cell_type": "markdown",
   "metadata": {
    "id": "NpmlMlkFTQVP"
   },
   "source": [
    "### MODEL 5: Random Forest"
   ]
  },
  {
   "cell_type": "code",
   "execution_count": 18,
   "metadata": {
    "colab": {
     "base_uri": "https://localhost:8080/"
    },
    "id": "W3VJXv5TTQVP",
    "outputId": "7e5a7ceb-f9f4-4615-fed3-d54684a845ac",
    "scrolled": false
   },
   "outputs": [
    {
     "name": "stdout",
     "output_type": "stream",
     "text": [
      "Random Forest Training Accuracy: 0.8228723884085386\n",
      "Random Forest Testing Accuracy: 0.8203721471859342\n",
      "Random Forest Classification Report (Testing Set):\n",
      "               precision    recall  f1-score   support\n",
      "\n",
      "           0       0.99      0.65      0.78     60966\n",
      "           1       0.74      0.99      0.85     60975\n",
      "\n",
      "    accuracy                           0.82    121941\n",
      "   macro avg       0.86      0.82      0.81    121941\n",
      "weighted avg       0.86      0.82      0.81    121941\n",
      "\n",
      "Overall Precision for Random Forest Model: 0.7384733700362553\n"
     ]
    }
   ],
   "source": [
    "# Initializing the Random Forest model\n",
    "random_forest_model = RandomForestClassifier(random_state=42)\n",
    "\n",
    "# Training the model on the training set\n",
    "random_forest_model.fit(X_train, Y_train)\n",
    "\n",
    "# Predicting the target variable on the training set\n",
    "Y_train_pred_rf = random_forest_model.predict(X_train)\n",
    "\n",
    "# Predicting the target variable on the testing set\n",
    "Y_test_pred_rf = random_forest_model.predict(X_test)\n",
    "\n",
    "# Evaluating the Random Forest model on the training set\n",
    "training_accuracy_rf = accuracy_score(Y_train, Y_train_pred_rf)\n",
    "print(\"Random Forest Training Accuracy:\", training_accuracy_rf)\n",
    "\n",
    "# Evaluating the Random Forest model on the testing set\n",
    "testing_accuracy_rf = accuracy_score(Y_test, Y_test_pred_rf)\n",
    "print(\"Random Forest Testing Accuracy:\", testing_accuracy_rf)\n",
    "\n",
    "# Displaying the classification report for the testing set\n",
    "classification_rep_rf = classification_report(Y_test, Y_test_pred_rf)\n",
    "print(\"Random Forest Classification Report (Testing Set):\\n\", classification_rep_rf)\n",
    "\n",
    "# Overall precision for the Random Forest model on the testing set\n",
    "overall_precision_rf = precision_score(Y_test, Y_test_pred_rf)\n",
    "print(\"Overall Precision for Random Forest Model:\", overall_precision_rf)"
   ]
  },
  {
   "cell_type": "markdown",
   "metadata": {
    "id": "2msbjaSgTQVP"
   },
   "source": [
    "### Tried Hyperparameter Tuning for Random Forest on a small subset of dataset but the <u>precision was  increased</u>"
   ]
  },
  {
   "cell_type": "code",
   "execution_count": 19,
   "metadata": {
    "colab": {
     "base_uri": "https://localhost:8080/",
     "height": 1000
    },
    "id": "TMuLTix6TQVQ",
    "outputId": "e0877ccf-5a90-4d36-9c7b-171c8d37ebf7",
    "scrolled": false
   },
   "outputs": [
    {
     "name": "stderr",
     "output_type": "stream",
     "text": [
      "/Users/pranavramesh/anaconda3/lib/python3.11/site-packages/sklearn/model_selection/_validation.py:425: FitFailedWarning: \n",
      "405 fits failed out of a total of 1215.\n",
      "The score on these train-test partitions for these parameters will be set to nan.\n",
      "If these failures are not expected, you can try to debug them by setting error_score='raise'.\n",
      "\n",
      "Below are more details about the failures:\n",
      "--------------------------------------------------------------------------------\n",
      "405 fits failed with the following error:\n",
      "Traceback (most recent call last):\n",
      "  File \"/Users/pranavramesh/anaconda3/lib/python3.11/site-packages/sklearn/model_selection/_validation.py\", line 729, in _fit_and_score\n",
      "    estimator.fit(X_train, y_train, **fit_params)\n",
      "  File \"/Users/pranavramesh/anaconda3/lib/python3.11/site-packages/sklearn/base.py\", line 1145, in wrapper\n",
      "    estimator._validate_params()\n",
      "  File \"/Users/pranavramesh/anaconda3/lib/python3.11/site-packages/sklearn/base.py\", line 638, in _validate_params\n",
      "    validate_parameter_constraints(\n",
      "  File \"/Users/pranavramesh/anaconda3/lib/python3.11/site-packages/sklearn/utils/_param_validation.py\", line 96, in validate_parameter_constraints\n",
      "    raise InvalidParameterError(\n",
      "sklearn.utils._param_validation.InvalidParameterError: The 'max_features' parameter of RandomForestClassifier must be an int in the range [1, inf), a float in the range (0.0, 1.0], a str among {'sqrt', 'log2'} or None. Got 'auto' instead.\n",
      "\n",
      "  warnings.warn(some_fits_failed_message, FitFailedWarning)\n",
      "/Users/pranavramesh/anaconda3/lib/python3.11/site-packages/sklearn/model_selection/_search.py:979: UserWarning: One or more of the test scores are non-finite: [       nan        nan        nan        nan        nan        nan\n",
      "        nan        nan        nan        nan        nan        nan\n",
      "        nan        nan        nan        nan        nan        nan\n",
      "        nan        nan        nan        nan        nan        nan\n",
      "        nan        nan        nan 0.77534699 0.775326   0.77621261\n",
      " 0.77526009 0.77603064 0.77675927 0.77658334 0.77676969 0.77658334\n",
      " 0.77226841 0.77284723 0.77339338 0.77283299 0.77284723 0.77339338\n",
      " 0.7739709  0.77322534 0.77359629 0.77414967 0.77414967 0.77431584\n",
      " 0.77414967 0.77414967 0.77431584 0.77431584 0.77359067 0.77431584\n",
      " 0.77534699 0.775326   0.77621261 0.77526009 0.77603064 0.77675927\n",
      " 0.77658334 0.77676969 0.77658334 0.77226841 0.77284723 0.77339338\n",
      " 0.77283299 0.77284723 0.77339338 0.7739709  0.77322534 0.77359629\n",
      " 0.77414967 0.77414967 0.77431584 0.77414967 0.77414967 0.77431584\n",
      " 0.77431584 0.77359067 0.77431584        nan        nan        nan\n",
      "        nan        nan        nan        nan        nan        nan\n",
      "        nan        nan        nan        nan        nan        nan\n",
      "        nan        nan        nan        nan        nan        nan\n",
      "        nan        nan        nan        nan        nan        nan\n",
      " 0.77549198 0.77519491 0.77554928 0.77568547 0.77591569 0.77608186\n",
      " 0.77682202 0.77610437 0.77627053 0.77234775 0.77257293 0.77273776\n",
      " 0.77291233 0.77239415 0.77290393 0.77385441 0.77313193 0.7732981\n",
      " 0.77503144 0.77273909 0.77346281 0.77503144 0.77273909 0.77346281\n",
      " 0.77385441 0.77273909 0.77346281 0.77549198 0.77519491 0.77554928\n",
      " 0.77568547 0.77591569 0.77608186 0.77682202 0.77610437 0.77627053\n",
      " 0.77234775 0.77257293 0.77273776 0.77291233 0.77239415 0.77290393\n",
      " 0.77385441 0.77313193 0.7732981  0.77503144 0.77273909 0.77346281\n",
      " 0.77503144 0.77273909 0.77346281 0.77385441 0.77273909 0.77346281\n",
      "        nan        nan        nan        nan        nan        nan\n",
      "        nan        nan        nan        nan        nan        nan\n",
      "        nan        nan        nan        nan        nan        nan\n",
      "        nan        nan        nan        nan        nan        nan\n",
      "        nan        nan        nan 0.77534699 0.775326   0.77621261\n",
      " 0.77526009 0.77603064 0.77675927 0.77658334 0.77676969 0.77658334\n",
      " 0.77226841 0.77284723 0.77339338 0.77283299 0.77284723 0.77339338\n",
      " 0.7739709  0.77322534 0.77359629 0.77414967 0.77414967 0.77431584\n",
      " 0.77414967 0.77414967 0.77431584 0.77431584 0.77359067 0.77431584\n",
      " 0.77534699 0.775326   0.77621261 0.77526009 0.77603064 0.77675927\n",
      " 0.77658334 0.77676969 0.77658334 0.77226841 0.77284723 0.77339338\n",
      " 0.77283299 0.77284723 0.77339338 0.7739709  0.77322534 0.77359629\n",
      " 0.77414967 0.77414967 0.77431584 0.77414967 0.77414967 0.77431584\n",
      " 0.77431584 0.77359067 0.77431584]\n",
      "  warnings.warn(\n"
     ]
    },
    {
     "name": "stdout",
     "output_type": "stream",
     "text": [
      "Best Hyperparameters: {'max_depth': 10, 'max_features': 'sqrt', 'min_samples_leaf': 1, 'min_samples_split': 10, 'n_estimators': 50}\n",
      "Best Random Forest Classification Report (Testing Set):\n",
      "               precision    recall  f1-score   support\n",
      "\n",
      "           0       0.97      0.66      0.78     60966\n",
      "           1       0.74      0.98      0.84     60975\n",
      "\n",
      "    accuracy                           0.82    121941\n",
      "   macro avg       0.86      0.82      0.81    121941\n",
      "weighted avg       0.86      0.82      0.81    121941\n",
      "\n",
      "Best Random Forest Accuracy on Testing Set: 0.818740210429634\n",
      "Overall Precision for Best Random Forest Model: 0.7406577350734256\n",
      "True Positives (TP): 59817\n",
      "True Negatives (TN): 40021\n",
      "False Positives (FP): 20945\n",
      "False Negatives (FN): 1158\n"
     ]
    },
    {
     "data": {
      "image/png": "[encoded data removed]",
      "text/plain": [
       "<Figure size 640x480 with 2 Axes>"
      ]
     },
     "metadata": {},
     "output_type": "display_data"
    }
   ],
   "source": [
    "from sklearn.model_selection import GridSearchCV\n",
    "from sklearn.ensemble import RandomForestClassifier\n",
    "from sklearn.metrics import accuracy_score, classification_report, confusion_matrix, precision_score\n",
    "import numpy as np\n",
    "import matplotlib.pyplot as plt\n",
    "import seaborn as sns\n",
    "\n",
    "# Creating a subset of the training data for hyperparameter tuning\n",
    "subset_size_tuning = 2000  # Adjust the size based on your computational resources\n",
    "X_train_subset_tuning = X_train[:subset_size_tuning]\n",
    "Y_train_subset_tuning = Y_train[:subset_size_tuning]\n",
    "\n",
    "# Defining the parameter grid for Random Forest\n",
    "param_grid = {\n",
    "    'n_estimators': [50, 100, 200],\n",
    "    'max_depth': [None, 10, 20],\n",
    "    'min_samples_split': [2, 5, 10],\n",
    "    'min_samples_leaf': [1, 2, 4],\n",
    "    'max_features': ['auto', 'sqrt', 'log2']\n",
    "}\n",
    "\n",
    "# Initializing the Random Forest model\n",
    "random_forest_model_tuning = RandomForestClassifier(random_state=42)\n",
    "\n",
    "# Initializing GridSearchCV\n",
    "grid_search_rf_tuning = GridSearchCV(estimator=random_forest_model_tuning, param_grid=param_grid, scoring='precision', cv=5)\n",
    "\n",
    "# Fitting the model to the training data subset for tuning\n",
    "grid_search_rf_tuning.fit(X_train_subset_tuning, Y_train_subset_tuning)\n",
    "\n",
    "# Printing the best hyperparameters found\n",
    "print(\"Best Hyperparameters:\", grid_search_rf_tuning.best_params_)\n",
    "\n",
    "# Getting the best model\n",
    "best_random_forest_model_tuning = grid_search_rf_tuning.best_estimator_\n",
    "\n",
    "# Predicting on the testing set using the best model\n",
    "Y_test_pred_best_rf_tuning = best_random_forest_model_tuning.predict(X_test)\n",
    "\n",
    "# Displaying the classification report for the testing set with the best model\n",
    "classification_rep_best_rf_tuning = classification_report(Y_test, Y_test_pred_best_rf_tuning)\n",
    "print(\"Best Random Forest Classification Report (Testing Set):\\n\", classification_rep_best_rf_tuning)\n",
    "\n",
    "# Evaluating the best model\n",
    "best_testing_accuracy_rf_tuning = accuracy_score(Y_test, Y_test_pred_best_rf_tuning)\n",
    "print(\"Best Random Forest Accuracy on Testing Set:\", best_testing_accuracy_rf_tuning)\n",
    "\n",
    "# Overall precision for the best Random Forest model on the testing set\n",
    "overall_precision_best_rf_tuning = precision_score(Y_test, Y_test_pred_best_rf_tuning)\n",
    "print(\"Overall Precision for Best Random Forest Model:\", overall_precision_best_rf_tuning)\n",
    "\n",
    "# Computing confusion matrix for the best Random Forest model\n",
    "cm_best_rf_tuning = confusion_matrix(Y_test, Y_test_pred_best_rf_tuning)\n",
    "\n",
    "# Extracting TP, TN, FP, FN from confusion matrix\n",
    "TN, FP, FN, TP = cm_best_rf_tuning.ravel()\n",
    "\n",
    "# Displaying TP, TN, FP, FN along with the confusion matrix\n",
    "print(f\"True Positives (TP): {TP}\")\n",
    "print(f\"True Negatives (TN): {TN}\")\n",
    "print(f\"False Positives (FP): {FP}\")\n",
    "print(f\"False Negatives (FN): {FN}\")\n",
    "\n",
    "# Visualizing the confusion matrix\n",
    "sns.heatmap(cm_best_rf_tuning, annot=True, fmt=\"d\", cmap=\"Blues\", xticklabels=['0', '1'], yticklabels=['0', '1'])\n",
    "plt.xlabel('Predicted Label')\n",
    "plt.ylabel('Actual Label')\n",
    "plt.title('Confusion Matrix for Random Forest Model (after Hyperparameter Tuning)')\n",
    "plt.show()"
   ]
  },
  {
   "cell_type": "markdown",
   "metadata": {
    "id": "UcMVk0ZOTQVQ"
   },
   "source": [
    "___"
   ]
  },
  {
   "cell_type": "markdown",
   "metadata": {
    "id": "NEboeYT8TQVQ"
   },
   "source": [
    "___"
   ]
  },
  {
   "cell_type": "markdown",
   "metadata": {
    "id": "rjEikSqQTQVQ"
   },
   "source": [
    "## Visualization of Performance metric (\"Precision\") of Models"
   ]
  },
  {
   "cell_type": "code",
   "execution_count": 20,
   "metadata": {
    "colab": {
     "base_uri": "https://localhost:8080/",
     "height": 564
    },
    "id": "x8B2ujz9TQVQ",
    "outputId": "5dd20d3a-d06b-468c-f1d4-c379f0db4110"
   },
   "outputs": [
    {
     "data": {
      "image/png": "[encoded data removed]",
      "text/plain": [
       "<Figure size 800x600 with 1 Axes>"
      ]
     },
     "metadata": {},
     "output_type": "display_data"
    }
   ],
   "source": [
    "import matplotlib.pyplot as plt\n",
    "import numpy as np\n",
    "\n",
    "# Overall precision values\n",
    "precision_values = [0.7178768376304603, 0.748209407073765, 0.7430318490452789, 0.7384728071781725, 0.7406577350734256]\n",
    "\n",
    "# Algorithms\n",
    "algorithms = ['Logistic Regression', 'KNN', 'SVM Model', 'Decision Tree Model', 'Random Forest Model']\n",
    "\n",
    "# Sorting values and algorithms in descending order\n",
    "sorted_indices = sorted(range(len(precision_values)), key=lambda k: precision_values[k], reverse=True)\n",
    "sorted_precision = [precision_values[i] for i in sorted_indices]\n",
    "sorted_algorithms = [algorithms[i] for i in sorted_indices]\n",
    "\n",
    "# Plotting the horizontal bar plot with precision values labeled\n",
    "fig, ax = plt.subplots(figsize=(8, 6))\n",
    "bars = ax.barh(sorted_algorithms, sorted_precision, color='green')\n",
    "\n",
    "# Adding precision values directly on the bars (rounded to 2 decimal places)\n",
    "for bar, precision in zip(bars, sorted_precision):\n",
    "    plt.text(bar.get_width(), bar.get_y() + bar.get_height()/2, f'{precision:.2f}', va='center')\n",
    "\n",
    "ax.set_xlabel('Overall Precision')\n",
    "ax.set_title('Overall Precision of Different Models')\n",
    "plt.show()\n"
   ]
  }
 ],
 "metadata": {
  "colab": {
   "provenance": []
  },
  "kernelspec": {
   "display_name": "Python 3 (ipykernel)",
   "language": "python",
   "name": "python3"
  },
  "language_info": {
   "codemirror_mode": {
    "name": "ipython",
    "version": 3
   },
   "file_extension": ".py",
   "mimetype": "text/x-python",
   "name": "python",
   "nbconvert_exporter": "python",
   "pygments_lexer": "ipython3",
   "version": "3.11.4"
  }
 },
 "nbformat": 4,
 "nbformat_minor": 1
}
